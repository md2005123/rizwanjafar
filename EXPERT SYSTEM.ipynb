{
 "cells": [
  {
   "cell_type": "markdown",
   "id": "4375da97",
   "metadata": {},
   "source": [
    "# Expert System"
   ]
  },
  {
   "cell_type": "code",
   "execution_count": null,
   "id": "400e4628",
   "metadata": {},
   "outputs": [],
   "source": [
    "medical expert system"
   ]
  }
 ],
 "metadata": {
  "kernelspec": {
   "display_name": "Python 3 (ipykernel)",
   "language": "python",
   "name": "python3"
  },
  "language_info": {
   "codemirror_mode": {
    "name": "ipython",
    "version": 3
   },
   "file_extension": ".py",
   "mimetype": "text/x-python",
   "name": "python",
   "nbconvert_exporter": "python",
   "pygments_lexer": "ipython3",
   "version": "3.9.18"
  }
 },
 "nbformat": 4,
 "nbformat_minor": 5
}
