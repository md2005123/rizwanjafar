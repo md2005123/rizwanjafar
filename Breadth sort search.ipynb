{
 "cells": [
  {
   "cell_type": "code",
   "execution_count": 28,
   "id": "8b9f0db7",
   "metadata": {},
   "outputs": [],
   "source": [
    " graph={'PKC':['STADIUM','TREE'],\n",
    "        'STADIUM':['MAIN BLOCK'],\n",
    "        'JUNCTION':['ENTRANCE','MAIN BLOCK'],\n",
    "        'ENTRANCE':['JUNCTION'],\n",
    "        'MAIN BLOCK':['JUNCTION'],\n",
    "        'TREE':['PKC'] }"
   ]
  },
  {
   "cell_type": "code",
   "execution_count": 31,
   "id": "cc030c6f",
   "metadata": {},
   "outputs": [],
   "source": [
    "from collections import deque\n",
    "def BFS(graph,start,goal):\n",
    "    visited=[]\n",
    "    queue=deque([start])\n",
    "    while queue:\n",
    "        node=queue.popleft()\n",
    "        if node not in visited:\n",
    "            visited.append(node)\n",
    "            print(\"I have visited:\",node)\n",
    "            neighbournode=graph[node]\n",
    "            if node==goal:\n",
    "                print(\"I have reached the goal,the path I travelled is\",visited)                     \n",
    "                \n",
    "            for neighbour in neighbournode:\n",
    "                    queue.append(neighbour)\n",
    "            \n",
    "                        \n",
    "    "
   ]
  },
  {
   "cell_type": "code",
   "execution_count": 32,
   "id": "54ad11b3",
   "metadata": {},
   "outputs": [
    {
     "name": "stdout",
     "output_type": "stream",
     "text": [
      "I have visited: PKC\n",
      "I have visited: STADIUM\n",
      "I have reached the goal,the path I travelled is ['PKC', 'STADIUM']\n",
      "I have visited: TREE\n",
      "I have visited: MAIN BLOCK\n",
      "I have visited: JUNCTION\n",
      "I have visited: ENTRANCE\n"
     ]
    }
   ],
   "source": [
    "BFS(graph,'PKC','STADIUM')"
   ]
  },
  {
   "cell_type": "code",
   "execution_count": 33,
   "id": "11818efc",
   "metadata": {},
   "outputs": [
    {
     "name": "stdout",
     "output_type": "stream",
     "text": [
      "I have visited: JUNCTION\n",
      "I have visited: ENTRANCE\n",
      "I have visited: MAIN BLOCK\n"
     ]
    }
   ],
   "source": [
    "BFS(graph,'JUNCTION','MAINBLOCK')"
   ]
  },
  {
   "cell_type": "code",
   "execution_count": null,
   "id": "d7f73928",
   "metadata": {},
   "outputs": [],
   "source": []
  },
  {
   "cell_type": "code",
   "execution_count": null,
   "id": "b2e1fa48",
   "metadata": {},
   "outputs": [],
   "source": []
  }
 ],
 "metadata": {
  "kernelspec": {
   "display_name": "Python 3 (ipykernel)",
   "language": "python",
   "name": "python3"
  },
  "language_info": {
   "codemirror_mode": {
    "name": "ipython",
    "version": 3
   },
   "file_extension": ".py",
   "mimetype": "text/x-python",
   "name": "python",
   "nbconvert_exporter": "python",
   "pygments_lexer": "ipython3",
   "version": "3.9.18"
  }
 },
 "nbformat": 4,
 "nbformat_minor": 5
}
