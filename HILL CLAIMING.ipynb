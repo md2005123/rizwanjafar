{
 "cells": [
  {
   "cell_type": "code",
   "execution_count": 2,
   "id": "db3672d2",
   "metadata": {},
   "outputs": [],
   "source": [
    "#Traveling sales person\n",
    "#finding the best possible shortest route among these cities to travel\n",
    "\n",
    "#chennai-bangalore=347\n",
    "\n",
    "#chennai-delhi=2196\n",
    "\n",
    "#chennai-kolkata= 1667\n",
    "\n",
    "#bangalor-delhi= 2164\n",
    "\n",
    "#bangalor-kolkata= 1875\n",
    "\n",
    "#delhi-kolkata= 1559\n",
    "\n",
    "#All values in kms"
   ]
  },
  {
   "cell_type": "code",
   "execution_count": 3,
   "id": "cbbdc028",
   "metadata": {},
   "outputs": [],
   "source": [
    "import random"
   ]
  },
  {
   "cell_type": "code",
   "execution_count": 28,
   "id": "ea0e9ad0",
   "metadata": {},
   "outputs": [],
   "source": [
    "tsp=[0,347,2196,1667],[347,0,2164,1875],[2196,2164,0,1559],[1667,1875,1559,0]"
   ]
  },
  {
   "cell_type": "code",
   "execution_count": 29,
   "id": "90c77976",
   "metadata": {},
   "outputs": [
    {
     "data": {
      "text/plain": [
       "4"
      ]
     },
     "execution_count": 29,
     "metadata": {},
     "output_type": "execute_result"
    }
   ],
   "source": [
    "len(tsp)"
   ]
  },
  {
   "cell_type": "code",
   "execution_count": 30,
   "id": "a807465a",
   "metadata": {},
   "outputs": [],
   "source": [
    "def randomsolution(tsp):\n",
    "    cities= list(range(len(tsp)))\n",
    "    solution=[]\n",
    "    \n",
    "    for i in range(len(tsp)):\n",
    "        randomcity = cities[random.randint(0,len(cities)-1)]\n",
    "        solution.append(randomcity)\n",
    "        cities.remove(randomcity)\n",
    "        \n",
    "    return solution    \n",
    "    "
   ]
  },
  {
   "cell_type": "code",
   "execution_count": 31,
   "id": "6ddc9225",
   "metadata": {},
   "outputs": [
    {
     "name": "stdout",
     "output_type": "stream",
     "text": [
      "[1, 2, 3, 0]\n"
     ]
    }
   ],
   "source": [
    "solution=randomsolution(tsp)\n",
    "print(solution)"
   ]
  },
  {
   "cell_type": "markdown",
   "id": "42c70711",
   "metadata": {},
   "source": [
    "# Claculating length of route"
   ]
  },
  {
   "cell_type": "code",
   "execution_count": 32,
   "id": "f49e086c",
   "metadata": {},
   "outputs": [],
   "source": [
    "def routelength(tsp,solution):\n",
    "    routelength=0\n",
    "    for i in range(len(solution)):\n",
    "        routelength+=tsp[solution[i-1]][solution[i]]\n",
    "    return routelength    "
   ]
  },
  {
   "cell_type": "code",
   "execution_count": 33,
   "id": "63bcddfa",
   "metadata": {},
   "outputs": [
    {
     "data": {
      "text/plain": [
       "5737"
      ]
     },
     "execution_count": 33,
     "metadata": {},
     "output_type": "execute_result"
    }
   ],
   "source": [
    "routelength(tsp,solution)"
   ]
  },
  {
   "cell_type": "markdown",
   "id": "47d0b7d6",
   "metadata": {},
   "source": [
    "# GENERATING NEIGHBOURS"
   ]
  },
  {
   "cell_type": "code",
   "execution_count": 40,
   "id": "12b4f80f",
   "metadata": {},
   "outputs": [],
   "source": [
    "def getneighbours(solution):\n",
    "    neighbours=[]\n",
    "    for i in range(len(solution)):\n",
    "        for j in range(i+1,len(solution)):\n",
    "            neighbour=solution.copy()\n",
    "            neighbour[i]=solution[j]\n",
    "            neighbour[j]=solution[i]\n",
    "            neighbours.append(neighbour)\n",
    "        return neighbours    \n",
    "  "
   ]
  },
  {
   "cell_type": "code",
   "execution_count": 41,
   "id": "67ec4e22",
   "metadata": {},
   "outputs": [
    {
     "name": "stdout",
     "output_type": "stream",
     "text": [
      "[[2, 1, 3, 0], [3, 2, 1, 0], [0, 2, 3, 1]]\n"
     ]
    }
   ],
   "source": [
    "neighbours=gentleneighbours(solution)\n",
    "print(neighbours)"
   ]
  },
  {
   "cell_type": "markdown",
   "id": "601ca129",
   "metadata": {},
   "source": [
    "# FINDING BEST NEIGHBOUR"
   ]
  },
  {
   "cell_type": "code",
   "execution_count": 42,
   "id": "575ee278",
   "metadata": {},
   "outputs": [],
   "source": [
    "def getbestneighbour(tsp,neighbour):\n",
    "    bestroutelength=routelength(tsp,neighbour[0])\n",
    "    bestneighbour=neighbour[0]\n",
    "    for neighbour in neighbours:\n",
    "        currentroutelength=routelength(tsp,neighbour)\n",
    "        if currentroutelength<bestroutelength:\n",
    "            bestroutelength= currentroutelength\n",
    "            bestneighbour=neighbour\n",
    "            return bestneighbour,bestroutelength\n",
    "            "
   ]
  },
  {
   "cell_type": "code",
   "execution_count": 43,
   "id": "8be5c2b1",
   "metadata": {},
   "outputs": [
    {
     "data": {
      "text/plain": [
       "([3, 2, 1, 0], 5737)"
      ]
     },
     "execution_count": 43,
     "metadata": {},
     "output_type": "execute_result"
    }
   ],
   "source": [
    "getbestneighbour(tsp,neighbours)"
   ]
  },
  {
   "cell_type": "markdown",
   "id": "a6a9ffa1",
   "metadata": {},
   "source": [
    "# HILL CLIMBING SOLUTION"
   ]
  },
  {
   "cell_type": "code",
   "execution_count": 48,
   "id": "dfbf8ac7",
   "metadata": {},
   "outputs": [],
   "source": [
    "def hillclimbing(tsp):\n",
    "    currentsolution = randomsolution(tsp)\n",
    "    currentroutelength = routelength(tsp,currentsolution)\n",
    "    neighbours = getneighbours(currentsolution)\n",
    "    bestneighbour,bestneighbourroutelength = getbestneighbour(tsp,neighbours)\n",
    "    \n",
    "    while  bestneighbourroutelength<currentroutelength:\n",
    "        currentsolution = bestneighbour\n",
    "        currentroutelength = bestneighbourroutelength\n",
    "        neighbours = getneighbours(currentsolution)\n",
    "        bestneighbour,bestneighbourroutelength = getbestneighbour(tsp,neighbours)\n",
    "        return currentsolution,currentroutelength "
   ]
  },
  {
   "cell_type": "code",
   "execution_count": 1,
   "id": "2cf61edb",
   "metadata": {},
   "outputs": [
    {
     "ename": "NameError",
     "evalue": "name 'hillclimbing' is not defined",
     "output_type": "error",
     "traceback": [
      "\u001b[1;31m---------------------------------------------------------------------------\u001b[0m",
      "\u001b[1;31mNameError\u001b[0m                                 Traceback (most recent call last)",
      "Cell \u001b[1;32mIn[1], line 1\u001b[0m\n\u001b[1;32m----> 1\u001b[0m \u001b[38;5;28mprint\u001b[39m(\u001b[43mhillclimbing\u001b[49m(tsp))\n",
      "\u001b[1;31mNameError\u001b[0m: name 'hillclimbing' is not defined"
     ]
    }
   ],
   "source": [
    "print(hillclimbing(tsp))"
   ]
  },
  {
   "cell_type": "code",
   "execution_count": null,
   "id": "b6a856b1",
   "metadata": {},
   "outputs": [],
   "source": []
  },
  {
   "cell_type": "code",
   "execution_count": null,
   "id": "2012af39",
   "metadata": {},
   "outputs": [],
   "source": []
  }
 ],
 "metadata": {
  "kernelspec": {
   "display_name": "Python 3 (ipykernel)",
   "language": "python",
   "name": "python3"
  },
  "language_info": {
   "codemirror_mode": {
    "name": "ipython",
    "version": 3
   },
   "file_extension": ".py",
   "mimetype": "text/x-python",
   "name": "python",
   "nbconvert_exporter": "python",
   "pygments_lexer": "ipython3",
   "version": "3.9.18"
  }
 },
 "nbformat": 4,
 "nbformat_minor": 5
}
